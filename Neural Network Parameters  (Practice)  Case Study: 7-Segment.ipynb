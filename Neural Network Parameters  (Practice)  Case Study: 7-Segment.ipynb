import pandas as pd
import numpy as np
import matplotlib.pyplot as plt
from sklearn.neural_network import MLPClassifier as MLP

dataset = pd.read_csv('XOR.csv')
data = dataset.iloc[:, 0:-1]
label = dataset.iloc[:, -1]

iter = np.array([10, 20, 30, 40, 50, 100, 150, 200, 250, 300])

def mse(actual, pred):
    actual, pred = np.array(actual), np.array(pred)
    return np.square(np.subtract(actual, pred)).mean()

for i in range (0, 10):
  model = MLP (hidden_layer_sizes=(7),
               max_iter=iter[i],
               activation= 'logistic',
               learning_rate_init=0.5)
  model.fit(data, label)
  pred = model.predict(data)
  if i==0 :
    error = np.array(mse(label, pred))
  else :
    error = np.append(error, mse(label, pred))

print('score:', model.score(data, label))

plt.plot(iter,error)
plt.xlabel('Interation No.')
plt.ylabel('Mean Square Error')
plt.title('Gradient Descent')
plt.show()

